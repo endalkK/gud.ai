{
  "nbformat": 4,
  "nbformat_minor": 0,
  "metadata": {
    "colab": {
      "provenance": [],
      "gpuType": "T4",
      "authorship_tag": "ABX9TyMIZ5074inSdOAU/CFHloiO",
      "include_colab_link": true
    },
    "kernelspec": {
      "name": "python3",
      "display_name": "Python 3"
    },
    "language_info": {
      "name": "python"
    },
    "accelerator": "GPU"
  },
  "cells": [
    {
      "cell_type": "markdown",
      "metadata": {
        "id": "view-in-github",
        "colab_type": "text"
      },
      "source": [
        "<a href=\"https://colab.research.google.com/github/endalkK/gud.ai/blob/main/gud.ai.ipynb\" target=\"_parent\"><img src=\"https://colab.research.google.com/assets/colab-badge.svg\" alt=\"Open In Colab\"/></a>"
      ]
    },
    {
      "cell_type": "markdown",
      "source": [
        "Torch\n",
        "https://en.wikipedia.org/wiki/Torch_(machine_learning)\n",
        "\n",
        "Softwmax function\n",
        "https://en.wikipedia.org/wiki/Softmax_function\n",
        "\n",
        "Cross_entropy\n",
        "https://en.wikipedia.org/wiki/Cross-entropy\n",
        "\n",
        "Torch randint\n",
        "https://pytorch.org/docs/stable/generated/torch.randint.html\n",
        "\n",
        "https://sebastianraschka.com/blog/2023/self-attention-from-scratch.html\n",
        "\n",
        "https://colab.research.google.com/drive/1JMLa53HDuA-i7ZBmqV7ZnA3c_fvtXnx-?usp=sharing#scrollTo=yhdOAd6-wXkZ\n",
        "\n",
        "https://github.com/geezorg/ebooks/blob/master/amharic/literature/Oromay-BaaluGirma/src/Oromay-BaaluGirma.utf8.txt"
      ],
      "metadata": {
        "id": "9OfC9D4P8ZBU"
      }
    },
    {
      "cell_type": "code",
      "source": [
        "import torch\n",
        "device = 'cuda' if torch.cuda.is_available() else 'cpu'\n",
        "print(device)"
      ],
      "metadata": {
        "colab": {
          "base_uri": "https://localhost:8080/"
        },
        "id": "vMrMqXtAK9iO",
        "outputId": "5f87e0ad-aedb-46f8-a79e-789a470d5202"
      },
      "execution_count": null,
      "outputs": [
        {
          "output_type": "stream",
          "name": "stdout",
          "text": [
            "cuda\n"
          ]
        }
      ]
    },
    {
      "cell_type": "code",
      "execution_count": null,
      "metadata": {
        "colab": {
          "base_uri": "https://localhost:8080/"
        },
        "id": "txSRveFVI6Wl",
        "outputId": "e6706811-a5c7-4e67-b75c-749b8f2dc8a2"
      },
      "outputs": [
        {
          "output_type": "stream",
          "name": "stdout",
          "text": [
            "--2025-02-10 16:19:02--  https://raw.githubusercontent.com/endalkK/gud.ai/refs/heads/main/Oromay-BaaluGirma.utf8.txt\n",
            "Resolving raw.githubusercontent.com (raw.githubusercontent.com)... 185.199.108.133, 185.199.109.133, 185.199.111.133, ...\n",
            "Connecting to raw.githubusercontent.com (raw.githubusercontent.com)|185.199.108.133|:443... connected.\n",
            "HTTP request sent, awaiting response... 200 OK\n",
            "Length: 943366 (921K) [text/plain]\n",
            "Saving to: ‘Oromay-BaaluGirma.utf8.txt.4’\n",
            "\n",
            "\r          Oromay-Ba   0%[                    ]       0  --.-KB/s               \rOromay-BaaluGirma.u 100%[===================>] 921.26K  --.-KB/s    in 0.04s   \n",
            "\n",
            "2025-02-10 16:19:02 (24.9 MB/s) - ‘Oromay-BaaluGirma.utf8.txt.4’ saved [943366/943366]\n",
            "\n"
          ]
        }
      ],
      "source": [
        "# We always start with a dataset to train on. Let's download the tiny shakespeare dataset\n",
        "!wget https://raw.githubusercontent.com/endalkK/gud.ai/refs/heads/main/Oromay-BaaluGirma.utf8.txt"
      ]
    },
    {
      "cell_type": "code",
      "source": [
        "with open('Oromay-BaaluGirma.utf8.txt.1', 'r', encoding='utf-8') as f:\n",
        "    text = f.read()"
      ],
      "metadata": {
        "id": "Jjh9B2g3J7DN"
      },
      "execution_count": null,
      "outputs": []
    },
    {
      "cell_type": "code",
      "source": [
        "print(\"length of dataset in characters: \", len(text))"
      ],
      "metadata": {
        "colab": {
          "base_uri": "https://localhost:8080/"
        },
        "id": "pCjqy-qIJ_VZ",
        "outputId": "efc399a1-5f9f-49e5-9b91-11c2b4ed8424"
      },
      "execution_count": null,
      "outputs": [
        {
          "output_type": "stream",
          "name": "stdout",
          "text": [
            "length of dataset in characters:  389076\n"
          ]
        }
      ]
    },
    {
      "cell_type": "code",
      "source": [
        "print(text[:1000])"
      ],
      "metadata": {
        "colab": {
          "base_uri": "https://localhost:8080/"
        },
        "id": "nor_6L29KCxr",
        "outputId": "46c22e2e-3e04-4d0c-ee9f-08dd09f09601"
      },
      "execution_count": null,
      "outputs": [
        {
          "output_type": "stream",
          "name": "stdout",
          "text": [
            "\n",
            "ገጽ አንድ \n",
            "\n",
            "   \n",
            "     ይህ የጸጋዬ ኃይለ ማርያም ቁንጽል ታሪክ ነው ። ጸጋዬ ኃይለ ማርያም ማነው ? አትቸኩል ። በዚህ ዓለም ምን የሚያስቸኩል ነገር አለ ? ባይቸኩሉም ሕይወት ራሷ አጭር ናት ። ታሪኩን ራስህ\n",
            "ትደርስበታለህ  ። በራሱ ቋንቋና አስተሳሰብ  ፤ ስሜትና እይታ ፤ ድርጊትና ዝምታ ጸጋዬ ራሱ ታሪ\n",
            "ኩን ይገልጽልሀል ።\n",
            "\n",
            "     እሽ እሱስ ይሁን ፤ ይህን የምነግራችሁ እኔ ማነኝ ? ግድ የለም ። የተለየ ስምና መልክ ፤ ጊዜና ሥፍራ የለኝም ። እኔ ነኝ ማለት ይበቃል ። ነበርኩ ፤ አለሁ ፤ እኖራለሁ ። ጸጋዬ ውሱን ተራ ሟች ስለሆነ በሁሉም ጊዜና ቦታ የመገኘት ችሎታ የለውም ። ስለዚህ እሱ በማይገኝበት ጊዜና ሥፍራ አንዳንዴ ብቅ እላለሁ ። ማን ይሆን ? ብለህ አትመራመር ። ጠቃሚ አይደለም ።  ግን  የሰው  ጭን\n",
            "ቀት ማየት አልወድምና ከምትጨነቅ ልንገርህ ። ደራሲው ነኝ ።\n",
            "\n",
            "     ጸጋዬን ከራሱ ይበልጥ አውቀዋለሁ ። የእግዜር በግ ነው ። በሕይወት የሚያየውን ነገር ሁሉ ይወዳል ። ውዴታው ብዙውን ጊዜ ከአቅሙ በላይ ይሆንበታል ። በዓለም ላይ ለሚያየው ውበት ሁሉ ልቡ በቂ ቦታ ስለሌለው የሚጨነቅ ግን ተራ ሟች የሆነ ፍጡር ነው ። እንዲያውም በቅርብ ካወቁትሞኝ ነው  ። ግን ማነው  ሞኝ  ያልሆነ !  እንዳልኩት  ያየውን ነገር ሁሉ ይወዳል ፤ እና ሁሉንም ያ\n",
            "ጣል ።\n",
            "\n",
            "     ጸጋዬ ራሱ ቢናገር ይሻላል ።  የት ቢጀምረው ይሻል ይሆን ? ችግሩ ምንድነው ? የሕይወት ሂደት የሚጀመርበትንና የሚፈጸምበትን  በውል የሚያውቅ ማን አለ ? ቁንጽል ታሪኩን የትም ሊጀምረው ይችላል ። ጸጋዬ ይኸውላችሁ ፡-\n",
            "\n",
            "\n",
            "\n",
            "\n",
            "\n",
            "\n",
            "\n",
            "\n",
            "\n",
            "\n",
            "\n",
            "\n",
            "\n",
            "\n",
            "\n",
            "\n",
            "\n",
            "\n",
            "\n",
            "ኦሮማይ \n",
            "\n",
            "\n",
            "                           ማለዳ ማለዳ \n",
            "\n",
            "                                ጀግ\n"
          ]
        }
      ]
    },
    {
      "cell_type": "code",
      "source": [
        "# here are all the unique characters that occur in this text\n",
        "chars = sorted(list(set(text)))\n",
        "vocab_size = len(chars)\n",
        "print(''.join(chars))\n",
        "print(vocab_size)"
      ],
      "metadata": {
        "colab": {
          "base_uri": "https://localhost:8080/"
        },
        "id": "KVk8gVtDLJA_",
        "outputId": "7c367c3a-f7eb-43f9-b373-ae35cc529145"
      },
      "execution_count": null,
      "outputs": [
        {
          "output_type": "stream",
          "name": "stdout",
          "text": [
            "\t\n",
            " !'()-./0123456789?EJS^acdeiklmnorstu«»ሀሁሂሃሄህሆለሉሊላሌልሎሏሐሑሒሔሕመሙሚማሜምሞሟሠሡሣሤሥሦረሩሪራሬርሮሯሰሱሲሳሴስሶሷሸሹሺሻሼሽሾሿቀቁቂቃቄቅቆቋቐቑቓቕበቡቢባቤብቦቧቨቪቫቬቭቮተቱቲታቴትቶቷቸቹቺቻቼችቾቿኃኅኋነኑኒናኔንኖኗኘኙኛኜኝኞአኡኢኤእኦኧከኩኪካኬክኮኰኳኸኹኺኻኽወዊዋዌውዎዐዑዓዔዕዘዙዚዛዜዝዞዟዠዡዢዣዤዥዦየዩያዬይዮደዱዲዳዴድዶዷጀጁጂጃጄጅጆጇገጉጊጋጌግጎጐጓጕጠጡጢጣጤጥጦጧጨጩጪጫጭጮጯጲጳጴጵጸጹጻጼጽጾጿፀፁፂፃፄፅፈፉፊፋፌፍፎፏፐፑፒፓፔፕፖ፡።፤\n",
            "287\n"
          ]
        }
      ]
    },
    {
      "cell_type": "code",
      "source": [
        "# create a mapping from characters to integers\n",
        "stoi = { ch:i for i,ch in enumerate(chars) }\n",
        "print(\"stio: \", stoi)\n",
        "itos = { i:ch for i,ch in enumerate(chars) }\n",
        "print(\"itos: \", itos)\n",
        "\n",
        "encode = lambda s: [stoi[c] for c in s] # encoder: take a string, output a list of integers\n",
        "decode = lambda l: ''.join([itos[i] for i in l]) # decoder: take a list of integers, output a string\n",
        "\n",
        "# print(encode(\"hii there\"))\n",
        "# print(decode(encode(\"hii there\")))"
      ],
      "metadata": {
        "colab": {
          "base_uri": "https://localhost:8080/"
        },
        "id": "zZX6Mq8pLMUL",
        "outputId": "9b9a0eab-936d-407d-e499-4bb3d2e453f3"
      },
      "execution_count": null,
      "outputs": [
        {
          "output_type": "stream",
          "name": "stdout",
          "text": [
            "stio:  {'\\t': 0, '\\n': 1, ' ': 2, '!': 3, \"'\": 4, '(': 5, ')': 6, '-': 7, '.': 8, '/': 9, '0': 10, '1': 11, '2': 12, '3': 13, '4': 14, '5': 15, '6': 16, '7': 17, '8': 18, '9': 19, '?': 20, 'E': 21, 'J': 22, 'S': 23, '^': 24, 'a': 25, 'c': 26, 'd': 27, 'e': 28, 'i': 29, 'k': 30, 'l': 31, 'm': 32, 'n': 33, 'o': 34, 'r': 35, 's': 36, 't': 37, 'u': 38, '«': 39, '»': 40, 'ሀ': 41, 'ሁ': 42, 'ሂ': 43, 'ሃ': 44, 'ሄ': 45, 'ህ': 46, 'ሆ': 47, 'ለ': 48, 'ሉ': 49, 'ሊ': 50, 'ላ': 51, 'ሌ': 52, 'ል': 53, 'ሎ': 54, 'ሏ': 55, 'ሐ': 56, 'ሑ': 57, 'ሒ': 58, 'ሔ': 59, 'ሕ': 60, 'መ': 61, 'ሙ': 62, 'ሚ': 63, 'ማ': 64, 'ሜ': 65, 'ም': 66, 'ሞ': 67, 'ሟ': 68, 'ሠ': 69, 'ሡ': 70, 'ሣ': 71, 'ሤ': 72, 'ሥ': 73, 'ሦ': 74, 'ረ': 75, 'ሩ': 76, 'ሪ': 77, 'ራ': 78, 'ሬ': 79, 'ር': 80, 'ሮ': 81, 'ሯ': 82, 'ሰ': 83, 'ሱ': 84, 'ሲ': 85, 'ሳ': 86, 'ሴ': 87, 'ስ': 88, 'ሶ': 89, 'ሷ': 90, 'ሸ': 91, 'ሹ': 92, 'ሺ': 93, 'ሻ': 94, 'ሼ': 95, 'ሽ': 96, 'ሾ': 97, 'ሿ': 98, 'ቀ': 99, 'ቁ': 100, 'ቂ': 101, 'ቃ': 102, 'ቄ': 103, 'ቅ': 104, 'ቆ': 105, 'ቋ': 106, 'ቐ': 107, 'ቑ': 108, 'ቓ': 109, 'ቕ': 110, 'በ': 111, 'ቡ': 112, 'ቢ': 113, 'ባ': 114, 'ቤ': 115, 'ብ': 116, 'ቦ': 117, 'ቧ': 118, 'ቨ': 119, 'ቪ': 120, 'ቫ': 121, 'ቬ': 122, 'ቭ': 123, 'ቮ': 124, 'ተ': 125, 'ቱ': 126, 'ቲ': 127, 'ታ': 128, 'ቴ': 129, 'ት': 130, 'ቶ': 131, 'ቷ': 132, 'ቸ': 133, 'ቹ': 134, 'ቺ': 135, 'ቻ': 136, 'ቼ': 137, 'ች': 138, 'ቾ': 139, 'ቿ': 140, 'ኃ': 141, 'ኅ': 142, 'ኋ': 143, 'ነ': 144, 'ኑ': 145, 'ኒ': 146, 'ና': 147, 'ኔ': 148, 'ን': 149, 'ኖ': 150, 'ኗ': 151, 'ኘ': 152, 'ኙ': 153, 'ኛ': 154, 'ኜ': 155, 'ኝ': 156, 'ኞ': 157, 'አ': 158, 'ኡ': 159, 'ኢ': 160, 'ኤ': 161, 'እ': 162, 'ኦ': 163, 'ኧ': 164, 'ከ': 165, 'ኩ': 166, 'ኪ': 167, 'ካ': 168, 'ኬ': 169, 'ክ': 170, 'ኮ': 171, 'ኰ': 172, 'ኳ': 173, 'ኸ': 174, 'ኹ': 175, 'ኺ': 176, 'ኻ': 177, 'ኽ': 178, 'ወ': 179, 'ዊ': 180, 'ዋ': 181, 'ዌ': 182, 'ው': 183, 'ዎ': 184, 'ዐ': 185, 'ዑ': 186, 'ዓ': 187, 'ዔ': 188, 'ዕ': 189, 'ዘ': 190, 'ዙ': 191, 'ዚ': 192, 'ዛ': 193, 'ዜ': 194, 'ዝ': 195, 'ዞ': 196, 'ዟ': 197, 'ዠ': 198, 'ዡ': 199, 'ዢ': 200, 'ዣ': 201, 'ዤ': 202, 'ዥ': 203, 'ዦ': 204, 'የ': 205, 'ዩ': 206, 'ያ': 207, 'ዬ': 208, 'ይ': 209, 'ዮ': 210, 'ደ': 211, 'ዱ': 212, 'ዲ': 213, 'ዳ': 214, 'ዴ': 215, 'ድ': 216, 'ዶ': 217, 'ዷ': 218, 'ጀ': 219, 'ጁ': 220, 'ጂ': 221, 'ጃ': 222, 'ጄ': 223, 'ጅ': 224, 'ጆ': 225, 'ጇ': 226, 'ገ': 227, 'ጉ': 228, 'ጊ': 229, 'ጋ': 230, 'ጌ': 231, 'ግ': 232, 'ጎ': 233, 'ጐ': 234, 'ጓ': 235, 'ጕ': 236, 'ጠ': 237, 'ጡ': 238, 'ጢ': 239, 'ጣ': 240, 'ጤ': 241, 'ጥ': 242, 'ጦ': 243, 'ጧ': 244, 'ጨ': 245, 'ጩ': 246, 'ጪ': 247, 'ጫ': 248, 'ጭ': 249, 'ጮ': 250, 'ጯ': 251, 'ጲ': 252, 'ጳ': 253, 'ጴ': 254, 'ጵ': 255, 'ጸ': 256, 'ጹ': 257, 'ጻ': 258, 'ጼ': 259, 'ጽ': 260, 'ጾ': 261, 'ጿ': 262, 'ፀ': 263, 'ፁ': 264, 'ፂ': 265, 'ፃ': 266, 'ፄ': 267, 'ፅ': 268, 'ፈ': 269, 'ፉ': 270, 'ፊ': 271, 'ፋ': 272, 'ፌ': 273, 'ፍ': 274, 'ፎ': 275, 'ፏ': 276, 'ፐ': 277, 'ፑ': 278, 'ፒ': 279, 'ፓ': 280, 'ፔ': 281, 'ፕ': 282, 'ፖ': 283, '፡': 284, '።': 285, '፤': 286}\n",
            "itos:  {0: '\\t', 1: '\\n', 2: ' ', 3: '!', 4: \"'\", 5: '(', 6: ')', 7: '-', 8: '.', 9: '/', 10: '0', 11: '1', 12: '2', 13: '3', 14: '4', 15: '5', 16: '6', 17: '7', 18: '8', 19: '9', 20: '?', 21: 'E', 22: 'J', 23: 'S', 24: '^', 25: 'a', 26: 'c', 27: 'd', 28: 'e', 29: 'i', 30: 'k', 31: 'l', 32: 'm', 33: 'n', 34: 'o', 35: 'r', 36: 's', 37: 't', 38: 'u', 39: '«', 40: '»', 41: 'ሀ', 42: 'ሁ', 43: 'ሂ', 44: 'ሃ', 45: 'ሄ', 46: 'ህ', 47: 'ሆ', 48: 'ለ', 49: 'ሉ', 50: 'ሊ', 51: 'ላ', 52: 'ሌ', 53: 'ል', 54: 'ሎ', 55: 'ሏ', 56: 'ሐ', 57: 'ሑ', 58: 'ሒ', 59: 'ሔ', 60: 'ሕ', 61: 'መ', 62: 'ሙ', 63: 'ሚ', 64: 'ማ', 65: 'ሜ', 66: 'ም', 67: 'ሞ', 68: 'ሟ', 69: 'ሠ', 70: 'ሡ', 71: 'ሣ', 72: 'ሤ', 73: 'ሥ', 74: 'ሦ', 75: 'ረ', 76: 'ሩ', 77: 'ሪ', 78: 'ራ', 79: 'ሬ', 80: 'ር', 81: 'ሮ', 82: 'ሯ', 83: 'ሰ', 84: 'ሱ', 85: 'ሲ', 86: 'ሳ', 87: 'ሴ', 88: 'ስ', 89: 'ሶ', 90: 'ሷ', 91: 'ሸ', 92: 'ሹ', 93: 'ሺ', 94: 'ሻ', 95: 'ሼ', 96: 'ሽ', 97: 'ሾ', 98: 'ሿ', 99: 'ቀ', 100: 'ቁ', 101: 'ቂ', 102: 'ቃ', 103: 'ቄ', 104: 'ቅ', 105: 'ቆ', 106: 'ቋ', 107: 'ቐ', 108: 'ቑ', 109: 'ቓ', 110: 'ቕ', 111: 'በ', 112: 'ቡ', 113: 'ቢ', 114: 'ባ', 115: 'ቤ', 116: 'ብ', 117: 'ቦ', 118: 'ቧ', 119: 'ቨ', 120: 'ቪ', 121: 'ቫ', 122: 'ቬ', 123: 'ቭ', 124: 'ቮ', 125: 'ተ', 126: 'ቱ', 127: 'ቲ', 128: 'ታ', 129: 'ቴ', 130: 'ት', 131: 'ቶ', 132: 'ቷ', 133: 'ቸ', 134: 'ቹ', 135: 'ቺ', 136: 'ቻ', 137: 'ቼ', 138: 'ች', 139: 'ቾ', 140: 'ቿ', 141: 'ኃ', 142: 'ኅ', 143: 'ኋ', 144: 'ነ', 145: 'ኑ', 146: 'ኒ', 147: 'ና', 148: 'ኔ', 149: 'ን', 150: 'ኖ', 151: 'ኗ', 152: 'ኘ', 153: 'ኙ', 154: 'ኛ', 155: 'ኜ', 156: 'ኝ', 157: 'ኞ', 158: 'አ', 159: 'ኡ', 160: 'ኢ', 161: 'ኤ', 162: 'እ', 163: 'ኦ', 164: 'ኧ', 165: 'ከ', 166: 'ኩ', 167: 'ኪ', 168: 'ካ', 169: 'ኬ', 170: 'ክ', 171: 'ኮ', 172: 'ኰ', 173: 'ኳ', 174: 'ኸ', 175: 'ኹ', 176: 'ኺ', 177: 'ኻ', 178: 'ኽ', 179: 'ወ', 180: 'ዊ', 181: 'ዋ', 182: 'ዌ', 183: 'ው', 184: 'ዎ', 185: 'ዐ', 186: 'ዑ', 187: 'ዓ', 188: 'ዔ', 189: 'ዕ', 190: 'ዘ', 191: 'ዙ', 192: 'ዚ', 193: 'ዛ', 194: 'ዜ', 195: 'ዝ', 196: 'ዞ', 197: 'ዟ', 198: 'ዠ', 199: 'ዡ', 200: 'ዢ', 201: 'ዣ', 202: 'ዤ', 203: 'ዥ', 204: 'ዦ', 205: 'የ', 206: 'ዩ', 207: 'ያ', 208: 'ዬ', 209: 'ይ', 210: 'ዮ', 211: 'ደ', 212: 'ዱ', 213: 'ዲ', 214: 'ዳ', 215: 'ዴ', 216: 'ድ', 217: 'ዶ', 218: 'ዷ', 219: 'ጀ', 220: 'ጁ', 221: 'ጂ', 222: 'ጃ', 223: 'ጄ', 224: 'ጅ', 225: 'ጆ', 226: 'ጇ', 227: 'ገ', 228: 'ጉ', 229: 'ጊ', 230: 'ጋ', 231: 'ጌ', 232: 'ግ', 233: 'ጎ', 234: 'ጐ', 235: 'ጓ', 236: 'ጕ', 237: 'ጠ', 238: 'ጡ', 239: 'ጢ', 240: 'ጣ', 241: 'ጤ', 242: 'ጥ', 243: 'ጦ', 244: 'ጧ', 245: 'ጨ', 246: 'ጩ', 247: 'ጪ', 248: 'ጫ', 249: 'ጭ', 250: 'ጮ', 251: 'ጯ', 252: 'ጲ', 253: 'ጳ', 254: 'ጴ', 255: 'ጵ', 256: 'ጸ', 257: 'ጹ', 258: 'ጻ', 259: 'ጼ', 260: 'ጽ', 261: 'ጾ', 262: 'ጿ', 263: 'ፀ', 264: 'ፁ', 265: 'ፂ', 266: 'ፃ', 267: 'ፄ', 268: 'ፅ', 269: 'ፈ', 270: 'ፉ', 271: 'ፊ', 272: 'ፋ', 273: 'ፌ', 274: 'ፍ', 275: 'ፎ', 276: 'ፏ', 277: 'ፐ', 278: 'ፑ', 279: 'ፒ', 280: 'ፓ', 281: 'ፔ', 282: 'ፕ', 283: 'ፖ', 284: '፡', 285: '።', 286: '፤'}\n"
          ]
        }
      ]
    },
    {
      "cell_type": "code",
      "source": [
        "import torch # we use PyTorch: https://pytorch.org\n",
        "data = torch.tensor(encode(text), dtype=torch.long)\n",
        "print(data.shape, data.dtype)\n",
        "print(data[:1000])"
      ],
      "metadata": {
        "colab": {
          "base_uri": "https://localhost:8080/"
        },
        "id": "Ns_wrLhZLtLL",
        "outputId": "0aab1e25-baac-4dbb-832f-5762f1076fc0"
      },
      "execution_count": null,
      "outputs": [
        {
          "output_type": "stream",
          "name": "stdout",
          "text": [
            "torch.Size([389076]) torch.int64\n",
            "tensor([  1, 227, 260,   2, 158, 149, 216,   2,   1,   1,   2,   2,   2,   1,\n",
            "          2,   2,   2,   2,   2, 209,  46,   2, 205, 256, 230, 208,   2, 141,\n",
            "        209,  48,   2,  64,  80, 207,  66,   2, 100, 149, 260,  53,   2, 128,\n",
            "         77, 170,   2, 144, 183,   2, 285,   2, 256, 230, 208,   2, 141, 209,\n",
            "         48,   2,  64,  80, 207,  66,   2,  64, 144, 183,   2,  20,   2, 158,\n",
            "        130, 133, 166,  53,   2, 285,   2, 111, 192,  46,   2, 187,  48,  66,\n",
            "          2,  66, 149,   2, 205,  63, 207,  88, 133, 166,  53,   2, 144, 227,\n",
            "         80,   2, 158,  48,   2,  20,   2, 114, 209, 133, 166,  49,  66,   2,\n",
            "         60, 209, 179, 130,   2,  78,  90,   2, 158, 249,  80,   2, 147, 130,\n",
            "          2, 285,   2, 128,  77, 166, 149,   2,  78,  88,  46,   1, 130, 211,\n",
            "         80,  88, 111, 128,  48,  46,   2,   2, 285,   2, 111,  78,  84,   2,\n",
            "        106, 149, 106, 147,   2, 158,  88, 125,  86,  83, 116,   2,   2, 286,\n",
            "          2,  88,  65, 130, 147,   2, 162, 209, 128,   2, 286,   2, 216,  80,\n",
            "        229, 130, 147,   2, 195,  66, 128,   2, 256, 230, 208,   2,  78,  84,\n",
            "          2, 128,  77,   1, 166, 149,   2, 209, 227,  53, 260,  53,  41,  53,\n",
            "          2, 285,   1,   1,   2,   2,   2,   2,   2, 162,  96,   2, 162,  84,\n",
            "         88,   2, 209,  42, 149,   2, 286,   2, 209,  46, 149,   2, 205,  66,\n",
            "        144, 232,  78, 138,  42,   2, 162, 148,   2,  64, 144, 156,   2,  20,\n",
            "          2, 232, 216,   2, 205,  48,  66,   2, 285,   2, 205, 125,  48, 205,\n",
            "          2,  88,  66, 147,   2,  61,  53, 170,   2, 286,   2, 229, 194, 147,\n",
            "          2,  73, 274,  78,   2, 205,  48, 156,  66,   2, 285,   2, 162, 148,\n",
            "          2, 144, 156,   2,  64,  48, 130,   2, 209, 111, 102,  53,   2, 285,\n",
            "          2, 144, 111,  80, 166,   2, 286,   2, 158,  48,  42,   2, 286,   2,\n",
            "        162, 150,  78,  48,  42,   2, 285,   2, 256, 230, 208,   2, 183,  84,\n",
            "        149,   2, 125,  78,   2,  68, 138,   2,  88,  48,  47, 144,   2, 111,\n",
            "         42,  49,  66,   2, 229, 194, 147,   2, 117, 128,   2, 205,  61, 227,\n",
            "        152, 130,   2, 138,  54, 128,   2, 205,  48, 183,  66,   2, 285,   2,\n",
            "         88,  48, 192,  46,   2, 162,  84,   2, 111,  64, 209, 227, 156, 111,\n",
            "        130,   2, 229, 194, 147,   2,  73, 274,  78,   2, 158, 149, 214, 149,\n",
            "        215,   2, 116, 104,   2, 162,  51,  48,  42,   2, 285,   2,  64, 149,\n",
            "          2, 209,  47, 149,   2,  20,   2, 116,  48,  46,   2, 158, 130,  61,\n",
            "         78,  61,  80,   2, 285,   2, 237, 102,  63,   2, 158, 209, 211,  48,\n",
            "         66,   2, 285,   2,   2, 232, 149,   2,   2, 205,  83, 183,   2,   2,\n",
            "        249, 149,   1,  99, 130,   2,  64, 205, 130,   2, 158,  53, 179, 216,\n",
            "         66, 147,   2, 165,  66, 130, 245, 144, 104,   2,  53, 149, 227,  80,\n",
            "         46,   2, 285,   2, 211,  78,  85, 183,   2, 144, 156,   2, 285,   1,\n",
            "          1,   2,   2,   2,   2,   2, 256, 230, 208, 149,   2, 165,  78,  84,\n",
            "          2, 209, 111,  53, 242,   2, 158, 183,  99, 181,  48,  42,   2, 285,\n",
            "          2, 205, 162, 232, 194,  80,   2, 111, 232,   2, 144, 183,   2, 285,\n",
            "          2, 111,  60, 209, 179, 130,   2, 205,  63, 207, 205, 183, 149,   2,\n",
            "        144, 227,  80,   2,  42,  49,   2, 209, 179, 214,  53,   2, 285,   2,\n",
            "        183, 215, 128, 183,   2, 116, 191, 183, 149,   2, 229, 194,   2, 165,\n",
            "        158, 104,  62,   2, 111,  51, 209,   2, 209,  47, 149, 111, 128,  53,\n",
            "          2, 285,   2, 111, 187,  48,  66,   2,  51, 209,   2,  48,  63, 207,\n",
            "        205, 183,   2, 183, 111, 130,   2,  42,  49,   2,  53, 112,   2, 111,\n",
            "        101,   2, 117, 128,   2,  88,  48,  52,  48, 183,   2, 205,  63, 245,\n",
            "        144, 104,   2, 232, 149,   2, 125,  78,   2,  68, 138,   2, 205,  47,\n",
            "        144,   2, 274, 238,  80,   2, 144, 183,   2, 285,   2, 162, 149, 213,\n",
            "        207, 183,  66,   2, 111, 104,  80, 116,   2, 168, 179, 100, 130,  67,\n",
            "        156,   2, 144, 183,   2,   2, 285,   2, 232, 149,   2,  64, 144, 183,\n",
            "          2,   2,  67, 156,   2,   2, 207,  53,  47, 144,   2,   3,   2,   2,\n",
            "        162, 149, 214,  53, 166, 130,   2,   2, 207, 205, 183, 149,   2, 144,\n",
            "        227,  80,   2,  42,  49,   2, 209, 179, 214,  53,   2, 286,   2, 162,\n",
            "        147,   2,  42,  49, 149,  66,   2, 207,   1, 240,  53,   2, 285,   1,\n",
            "          1,   2,   2,   2,   2,   2, 256, 230, 208,   2,  78,  84,   2, 113,\n",
            "        147, 227,  80,   2, 209,  94,  51,  53,   2, 285,   2,   2, 205, 130,\n",
            "          2, 113, 219,  66,  75, 183,   2, 209,  94,  53,   2, 209,  47, 149,\n",
            "          2,  20,   2, 138, 232,  76,   2,  66, 149, 216, 144, 183,   2,  20,\n",
            "          2, 205,  60, 209, 179, 130,   2,  43, 211, 130,   2, 205,  63, 219,\n",
            "         61,  80, 111, 130, 149, 147,   2, 205,  63, 269, 256,  66, 111, 130,\n",
            "        149,   2,   2, 111, 183,  53,   2, 205,  63, 207, 183, 104,   2,  64,\n",
            "        149,   2, 158,  48,   2,  20,   2, 100, 149, 260,  53,   2, 128,  77,\n",
            "        166, 149,   2, 205, 130,  66,   2,  50, 219,  66,  75, 183,   2, 209,\n",
            "        138,  51,  53,   2, 285,   2, 256, 230, 208,   2, 209, 174, 183,  51,\n",
            "        138,  42,   2, 284,   7,   1,   1,   1,   1,   1,   1,   1,   1,   1,\n",
            "          1,   1,   1,   1,   1,   1,   1,   1,   1,   1,   1, 163,  81,  64,\n",
            "        209,   2,   1,   1,   1,   2,   2,   2,   2,   2,   2,   2,   2,   2,\n",
            "          2,   2,   2,   2,   2,   2,   2,   2,   2,   2,   2,   2,   2,   2,\n",
            "          2,   2,   2,   2,  64,  48, 214,   2,  64,  48, 214,   2,   1,   1,\n",
            "          2,   2,   2,   2,   2,   2,   2,   2,   2,   2,   2,   2,   2,   2,\n",
            "          2,   2,   2,   2,   2,   2,   2,   2,   2,   2,   2,   2,   2,   2,\n",
            "          2,   2,   2,   2, 219, 232])\n"
          ]
        }
      ]
    },
    {
      "cell_type": "code",
      "source": [
        "n = int(0.9*len(data)) # first 90% will be train, rest val\n",
        "train_data = data[:n]\n",
        "val_data = data[n:]"
      ],
      "metadata": {
        "id": "fVhGQ8A9NDn4"
      },
      "execution_count": null,
      "outputs": []
    },
    {
      "cell_type": "code",
      "source": [
        "block_size = 8\n",
        "train_data[:block_size+1]"
      ],
      "metadata": {
        "colab": {
          "base_uri": "https://localhost:8080/"
        },
        "id": "IUcXnGiUNLVY",
        "outputId": "e53e17e6-58ad-42d6-aa57-54bc2dd27a7c"
      },
      "execution_count": null,
      "outputs": [
        {
          "output_type": "execute_result",
          "data": {
            "text/plain": [
              "tensor([  1, 227, 260,   2, 158, 149, 216,   2,   1])"
            ]
          },
          "metadata": {},
          "execution_count": 36
        }
      ]
    },
    {
      "cell_type": "code",
      "source": [
        "x = train_data[:block_size]\n",
        "y = train_data[1:block_size+1]\n",
        "for t in range(block_size):\n",
        "    context = x[:t+1]\n",
        "    target = y[t]\n",
        "    print(f\"when input is {context} the target: {target}\")"
      ],
      "metadata": {
        "colab": {
          "base_uri": "https://localhost:8080/"
        },
        "id": "S-OrvQwWNoTS",
        "outputId": "bc86ccf5-77e3-4150-89de-4ed5a0ee1032"
      },
      "execution_count": null,
      "outputs": [
        {
          "output_type": "stream",
          "name": "stdout",
          "text": [
            "when input is tensor([1]) the target: 227\n",
            "when input is tensor([  1, 227]) the target: 260\n",
            "when input is tensor([  1, 227, 260]) the target: 2\n",
            "when input is tensor([  1, 227, 260,   2]) the target: 158\n",
            "when input is tensor([  1, 227, 260,   2, 158]) the target: 149\n",
            "when input is tensor([  1, 227, 260,   2, 158, 149]) the target: 216\n",
            "when input is tensor([  1, 227, 260,   2, 158, 149, 216]) the target: 2\n",
            "when input is tensor([  1, 227, 260,   2, 158, 149, 216,   2]) the target: 1\n"
          ]
        }
      ]
    },
    {
      "cell_type": "code",
      "source": [
        "len(train_data), len(val_data)"
      ],
      "metadata": {
        "colab": {
          "base_uri": "https://localhost:8080/"
        },
        "id": "W6NDBww3QgJq",
        "outputId": "aa7d6d9c-3d82-44ea-ac02-01e8ca122ac8"
      },
      "execution_count": null,
      "outputs": [
        {
          "output_type": "execute_result",
          "data": {
            "text/plain": [
              "(350168, 38908)"
            ]
          },
          "metadata": {},
          "execution_count": 38
        }
      ]
    },
    {
      "cell_type": "code",
      "source": [
        "torch.manual_seed(1337)\n",
        "ix = torch.randint(1003854-8, (4,))\n",
        "ix"
      ],
      "metadata": {
        "colab": {
          "base_uri": "https://localhost:8080/"
        },
        "id": "pVWylRqDQwNq",
        "outputId": "aeb31a63-03e9-4b63-a6a9-37c48c908d13"
      },
      "execution_count": null,
      "outputs": [
        {
          "output_type": "execute_result",
          "data": {
            "text/plain": [
              "tensor([ 76049, 234249, 934904, 560986])"
            ]
          },
          "metadata": {},
          "execution_count": 39
        }
      ]
    },
    {
      "cell_type": "code",
      "source": [
        "# x = torch.stack([data[i:i+block_size] for i in ix])\n",
        "# y = torch.stack([data[i+1:i+block_size+1] for i in ix])\n",
        "# x, y"
      ],
      "metadata": {
        "id": "pGDSOCCxSkn9"
      },
      "execution_count": null,
      "outputs": []
    },
    {
      "cell_type": "code",
      "source": [
        "torch.manual_seed(1337)\n",
        "batch_size = 4 # how many independent sequences will we process in parallel?\n",
        "block_size = 8 # what is the maximum context length for predictions?\n",
        "\n",
        "def get_batch(split):\n",
        "    # generate a small batch of data of inputs x and targets y\n",
        "    data = train_data if split == 'train' else val_data\n",
        "    ix = torch.randint(len(data) - block_size, (batch_size,))\n",
        "    x = torch.stack([data[i:i+block_size] for i in ix])\n",
        "    y = torch.stack([data[i+1:i+block_size+1] for i in ix])\n",
        "    return x, y\n",
        "\n",
        "xb, yb = get_batch('train')\n",
        "print('inputs:')\n",
        "print(xb.shape)\n",
        "print(xb)\n",
        "print('targets:')\n",
        "print(yb.shape)\n",
        "print(yb)\n",
        "\n",
        "print('----')\n",
        "\n",
        "for b in range(batch_size): # batch dimension\n",
        "    for t in range(block_size): # time dimension\n",
        "        context = xb[b, :t+1]\n",
        "        target = yb[b,t]\n",
        "        print(f\"when input is {context.tolist()} the target: {target}\")"
      ],
      "metadata": {
        "colab": {
          "base_uri": "https://localhost:8080/"
        },
        "id": "F14cREjAN2Mk",
        "outputId": "ed920dd2-9694-41a9-8d6e-6c4c9c0a7c2c"
      },
      "execution_count": null,
      "outputs": [
        {
          "output_type": "stream",
          "name": "stdout",
          "text": [
            "inputs:\n",
            "torch.Size([4, 8])\n",
            "tensor([[133,   2, 209,  46,   2, 116, 136,   2],\n",
            "        [ 61,  88,  51,  48, 138, 285,   2, 111],\n",
            "        [158,  48,   2,   1,  39,   2, 125, 170],\n",
            "        [130, 147,   2, 158, 166,  77,   2, 158]])\n",
            "targets:\n",
            "torch.Size([4, 8])\n",
            "tensor([[  2, 209,  46,   2, 116, 136,   2, 158],\n",
            "        [ 88,  51,  48, 138, 285,   2, 111,  73],\n",
            "        [ 48,   2,   1,  39,   2, 125, 170,  51],\n",
            "        [147,   2, 158, 166,  77,   2, 158, 116]])\n",
            "----\n",
            "when input is [133] the target: 2\n",
            "when input is [133, 2] the target: 209\n",
            "when input is [133, 2, 209] the target: 46\n",
            "when input is [133, 2, 209, 46] the target: 2\n",
            "when input is [133, 2, 209, 46, 2] the target: 116\n",
            "when input is [133, 2, 209, 46, 2, 116] the target: 136\n",
            "when input is [133, 2, 209, 46, 2, 116, 136] the target: 2\n",
            "when input is [133, 2, 209, 46, 2, 116, 136, 2] the target: 158\n",
            "when input is [61] the target: 88\n",
            "when input is [61, 88] the target: 51\n",
            "when input is [61, 88, 51] the target: 48\n",
            "when input is [61, 88, 51, 48] the target: 138\n",
            "when input is [61, 88, 51, 48, 138] the target: 285\n",
            "when input is [61, 88, 51, 48, 138, 285] the target: 2\n",
            "when input is [61, 88, 51, 48, 138, 285, 2] the target: 111\n",
            "when input is [61, 88, 51, 48, 138, 285, 2, 111] the target: 73\n",
            "when input is [158] the target: 48\n",
            "when input is [158, 48] the target: 2\n",
            "when input is [158, 48, 2] the target: 1\n",
            "when input is [158, 48, 2, 1] the target: 39\n",
            "when input is [158, 48, 2, 1, 39] the target: 2\n",
            "when input is [158, 48, 2, 1, 39, 2] the target: 125\n",
            "when input is [158, 48, 2, 1, 39, 2, 125] the target: 170\n",
            "when input is [158, 48, 2, 1, 39, 2, 125, 170] the target: 51\n",
            "when input is [130] the target: 147\n",
            "when input is [130, 147] the target: 2\n",
            "when input is [130, 147, 2] the target: 158\n",
            "when input is [130, 147, 2, 158] the target: 166\n",
            "when input is [130, 147, 2, 158, 166] the target: 77\n",
            "when input is [130, 147, 2, 158, 166, 77] the target: 2\n",
            "when input is [130, 147, 2, 158, 166, 77, 2] the target: 158\n",
            "when input is [130, 147, 2, 158, 166, 77, 2, 158] the target: 116\n"
          ]
        }
      ]
    },
    {
      "cell_type": "markdown",
      "source": [
        "The forward method in the BigramLanguageModel class processes input sequences and returns:\n",
        "\n",
        "Logits – The predicted next-token probabilities.\n",
        "Loss (if targets is provided) – The training error.\n",
        "\n",
        "**B, T, C**\n",
        "\n",
        "*   B (Batch Size): The number of input sequences processed simultaneously.\n",
        "*   T (Sequence Length): The number of tokens in each sequence.\n",
        "*   C (Vocabulary Size): The number of possible tokens (i.e., vocab size).\n",
        "\n",
        "\n",
        "\n",
        "\n",
        "\n",
        "\n",
        "\n",
        "\n",
        "\n",
        "\n",
        "\n",
        "\n"
      ],
      "metadata": {
        "id": "0Bar8u6V1qsh"
      }
    },
    {
      "cell_type": "markdown",
      "source": [
        "https://en.wikipedia.org/wiki/Softmax_function"
      ],
      "metadata": {
        "id": "dguddlEr8TZe"
      }
    },
    {
      "cell_type": "markdown",
      "source": [
        "```\n",
        "logits = torch.tensor([\n",
        "    [[0.1, 0.2, ..., 0.05], [0.3, 0.1, ..., 0.02], [0.05, 0.2, ..., 0.9]],  # Batch 1\n",
        "    [[0.4, 0.2, ..., 0.1], [0.2, 0.3, ..., 0.05], [0.1, 0.05, ..., 0.3]]   # Batch 2\n",
        "])  # Shape: (B=2, T=3, C=100)\n",
        "\n",
        "logits = torch.tensor([\n",
        "    [0.1, 0.2, ..., 0.05],  # Token 1 from Batch 1\n",
        "    [0.3, 0.1, ..., 0.02],  # Token 2 from Batch 1\n",
        "    [0.05, 0.2, ..., 0.9],  # Token 3 from Batch 1\n",
        "    [0.4, 0.2, ..., 0.1],   # Token 1 from Batch 2\n",
        "    [0.2, 0.3, ..., 0.05],  # Token 2 from Batch 2\n",
        "    [0.1, 0.05, ..., 0.3]   # Token 3 from Batch 2\n",
        "])  # Shape: (6, 100)\n",
        "\n",
        "```\n",
        "\n",
        "\n"
      ],
      "metadata": {
        "id": "hg0TjpMC5Wtp"
      }
    },
    {
      "cell_type": "markdown",
      "source": [
        "Example 1: Discrete Case (Classification)\n",
        "Suppose we have a binary classification problem where an actual label (true distribution\n",
        "𝑝\n",
        "p) is:\n",
        "\n",
        "𝑝\n",
        "=\n",
        "[\n",
        "1\n",
        ",\n",
        "0\n",
        "]\n",
        "(i.e., the first class is the true label)\n",
        "p=[1,0](i.e., the first class is the true label)\n",
        "And a model predicts probabilities:\n",
        "\n",
        "𝑞\n",
        "=\n",
        "[\n",
        "0.8\n",
        ",\n",
        "0.2\n",
        "]\n",
        "q=[0.8,0.2]\n",
        "The cross-entropy is:\n",
        "\n",
        "𝐻\n",
        "(\n",
        "𝑝\n",
        ",\n",
        "𝑞\n",
        ")\n",
        "=\n",
        "−\n",
        "∑\n",
        "𝑥\n",
        "𝑝\n",
        "(\n",
        "𝑥\n",
        ")\n",
        "log\n",
        "⁡\n",
        "𝑞\n",
        "(\n",
        "𝑥\n",
        ")\n",
        "H(p,q)=−\n",
        "x\n",
        "∑\n",
        "​\n",
        " p(x)logq(x)\n",
        "Since the true distribution\n",
        "𝑝\n",
        "p assigns full probability to the first class (1,0), we compute:\n",
        "\n",
        "𝐻\n",
        "(\n",
        "𝑝\n",
        ",\n",
        "𝑞\n",
        ")\n",
        "=\n",
        "−\n",
        "[\n",
        "1\n",
        "⋅\n",
        "log\n",
        "⁡\n",
        "0.8\n",
        "+\n",
        "0\n",
        "⋅\n",
        "log\n",
        "⁡\n",
        "0.2\n",
        "]\n",
        "H(p,q)=−[1⋅log0.8+0⋅log0.2]\n",
        "=\n",
        "−\n",
        "log\n",
        "⁡\n",
        "0.8\n",
        "=−log0.8\n",
        "=\n",
        "0.223\n",
        "(in base 2, otherwise in base\n",
        "𝑒\n",
        ", it would be 0.096)\n",
        "=0.223(in base 2, otherwise in base e, it would be 0.096)\n",
        "This means that if the model assigns high probability to the correct class, the cross-entropy is low."
      ],
      "metadata": {
        "id": "BBDVF1xJik11"
      }
    },
    {
      "cell_type": "code",
      "source": [
        "import torch\n",
        "import torch.nn as nn\n",
        "from torch.nn import functional as F\n",
        "torch.manual_seed(1337)\n",
        "\n",
        "class BigramLanguageModel(nn.Module):\n",
        "\n",
        "    def __init__(self, vocab_size):\n",
        "        super().__init__()\n",
        "        # each token directly reads off the logits for the next token from a lookup table\n",
        "        self.token_embedding_table = nn.Embedding(vocab_size, vocab_size)\n",
        "\n",
        "    def forward(self, idx, targets=None):\n",
        "        # idx and targets are both (B,T) tensor of integers\n",
        "        logits = self.token_embedding_table(idx) # (B,T,C)\n",
        "\n",
        "        if targets is None:\n",
        "            loss = None\n",
        "        else:\n",
        "            B, T, C = logits.shape\n",
        "            logits = logits.view(B*T, C)\n",
        "            targets = targets.view(B*T)\n",
        "            loss = F.cross_entropy(logits, targets)\n",
        "        return logits, loss\n",
        "\n",
        "m = BigramLanguageModel(vocab_size)\n",
        "logits, loss = m(xb, yb)\n",
        "print(logits)\n",
        "print(logits.shape)\n",
        "print(loss)\n"
      ],
      "metadata": {
        "colab": {
          "base_uri": "https://localhost:8080/"
        },
        "id": "yG8Yc-_5Zh9o",
        "outputId": "727eb11c-5d4b-4cc0-a849-31cd79467009"
      },
      "execution_count": null,
      "outputs": [
        {
          "output_type": "stream",
          "name": "stdout",
          "text": [
            "tensor([[-0.5928, -1.6397, -1.4249,  ..., -0.1259,  0.3837,  0.7042],\n",
            "        [ 0.7535, -0.5359, -1.0277,  ...,  0.6586, -1.3565, -1.8218],\n",
            "        [-0.2185, -0.4746,  0.8747,  ...,  1.0283, -1.0580, -2.5318],\n",
            "        ...,\n",
            "        [-0.9197, -0.7263,  1.3462,  ...,  0.5315,  1.0208,  0.8747],\n",
            "        [ 0.7535, -0.5359, -1.0277,  ...,  0.6586, -1.3565, -1.8218],\n",
            "        [-0.0565,  1.0043, -0.9937,  ..., -0.8984,  0.6702, -1.3248]],\n",
            "       grad_fn=<ViewBackward0>)\n",
            "torch.Size([32, 287])\n",
            "tensor(6.2408, grad_fn=<NllLossBackward0>)\n"
          ]
        }
      ]
    },
    {
      "cell_type": "code",
      "source": [
        "torch.zeros((1, 1), dtype=torch.long)"
      ],
      "metadata": {
        "colab": {
          "base_uri": "https://localhost:8080/"
        },
        "id": "qz8iD-pw7ju_",
        "outputId": "7efcad9c-180c-4834-ca09-1b5c60863588"
      },
      "execution_count": null,
      "outputs": [
        {
          "output_type": "execute_result",
          "data": {
            "text/plain": [
              "tensor([[0]])"
            ]
          },
          "metadata": {},
          "execution_count": 43
        }
      ]
    },
    {
      "cell_type": "code",
      "source": [
        "import torch\n",
        "import torch.nn as nn\n",
        "from torch.nn import functional as F\n",
        "torch.manual_seed(1337)\n",
        "\n",
        "class BigramLanguageModel(nn.Module):\n",
        "\n",
        "    def __init__(self, vocab_size):\n",
        "        super().__init__()\n",
        "        # each token directly reads off the logits for the next token from a lookup table\n",
        "        self.token_embedding_table = nn.Embedding(vocab_size, vocab_size)\n",
        "\n",
        "    def forward(self, idx, targets=None):\n",
        "\n",
        "        # idx and targets are both (B,T) tensor of integers\n",
        "        logits = self.token_embedding_table(idx) # (B,T,C)\n",
        "\n",
        "        if targets is None:\n",
        "            loss = None\n",
        "        else:\n",
        "            B, T, C = logits.shape\n",
        "            logits = logits.view(B*T, C)\n",
        "            targets = targets.view(B*T)\n",
        "            loss = F.cross_entropy(logits, targets)\n",
        "\n",
        "        return logits, loss\n",
        "\n",
        "    def generate(self, idx, max_new_tokens):\n",
        "        # idx is (B, T) array of indices in the current context\n",
        "        for _ in range(max_new_tokens):\n",
        "            # get the predictions\n",
        "            logits, loss = self(idx)\n",
        "            # focus only on the last time step\n",
        "            logits = logits[:, -1, :] # becomes (B, C)\n",
        "            # apply softmax to get probabilities\n",
        "            probs = F.softmax(logits, dim=-1) # (B, C)\n",
        "            # sample from the distribution\n",
        "            idx_next = torch.multinomial(probs, num_samples=1) # (B, 1)\n",
        "            # append sampled index to the running sequence\n",
        "            idx = torch.cat((idx, idx_next), dim=1) # (B, T+1)\n",
        "        return idx\n",
        "\n",
        "m = BigramLanguageModel(vocab_size)\n",
        "logits, loss = m(xb, yb)\n",
        "print(logits.shape)\n",
        "# logits, loss = m(torch.zeros((1, 1), dtype=torch.long))\n",
        "# print(logits[:, -1, :])\n",
        "print(decode(m.generate(idx = torch.zeros((1, 1), dtype=torch.long), max_new_tokens=100)[0].tolist()))\n"
      ],
      "metadata": {
        "colab": {
          "base_uri": "https://localhost:8080/"
        },
        "id": "ckISyrgh8afh",
        "outputId": "ca041313-f286-4b1c-e2b3-d3ea10640592"
      },
      "execution_count": null,
      "outputs": [
        {
          "output_type": "stream",
          "name": "stdout",
          "text": [
            "torch.Size([32, 287])\n",
            "\tlክ9ሷኽሩኡሣህቤዴሩሼnፈሠ88ኡፅሚኔሑጳሦጠ^ሤሕጸሾዜsራይጌ.ዴeሡዡኝሥይኪኔiኘድ)ዟሚዢፅሺፁዊሆዎዬፍዔሯፀዋጧጲጳ-ጓዑሪከኬቧኗጦበcኘዤዬፅ«ኪዞክኋኋኘጵጣመጓጿቦፀ7Jፍ\n"
          ]
        }
      ]
    },
    {
      "cell_type": "code",
      "source": [
        "# create a PyTorch optimizer\n",
        "optimizer = torch.optim.AdamW(m.parameters(), lr=1e-3)"
      ],
      "metadata": {
        "id": "-BYRY9nGKPH4"
      },
      "execution_count": null,
      "outputs": []
    },
    {
      "cell_type": "code",
      "source": [
        "batch_size = 32\n",
        "for steps in range(100): # increase number of steps for good results...\n",
        "\n",
        "    # sample a batch of data\n",
        "    xb, yb = get_batch('train')\n",
        "\n",
        "    # evaluate the loss\n",
        "    logits, loss = m(xb, yb)\n",
        "    optimizer.zero_grad(set_to_none=True)\n",
        "    loss.backward()\n",
        "    optimizer.step()\n",
        "    # Print loss every 10 epochs\n",
        "    if (steps + 1) % 10 == 0:\n",
        "        print(f\"Epoch {steps+1}/{100}, Loss: {loss.item():.4f}\")\n",
        "\n",
        "print(loss.item())\n"
      ],
      "metadata": {
        "colab": {
          "base_uri": "https://localhost:8080/"
        },
        "id": "30SGNQ7IKMfK",
        "outputId": "77f47745-8c97-46e8-e350-cf170a1ab4bd"
      },
      "execution_count": null,
      "outputs": [
        {
          "output_type": "stream",
          "name": "stdout",
          "text": [
            "Epoch 10/100, Loss: 6.2052\n",
            "Epoch 20/100, Loss: 6.3065\n",
            "Epoch 30/100, Loss: 6.2858\n",
            "Epoch 40/100, Loss: 6.2995\n",
            "Epoch 50/100, Loss: 6.2532\n",
            "Epoch 60/100, Loss: 6.2702\n",
            "Epoch 70/100, Loss: 6.1529\n",
            "Epoch 80/100, Loss: 6.1519\n",
            "Epoch 90/100, Loss: 6.1374\n",
            "Epoch 100/100, Loss: 6.1467\n",
            "6.146655559539795\n"
          ]
        }
      ]
    },
    {
      "cell_type": "code",
      "source": [
        "print(decode(m.generate(idx = torch.zeros((1, 1), dtype=torch.long), max_new_tokens=500)[0].tolist()))"
      ],
      "metadata": {
        "colab": {
          "base_uri": "https://localhost:8080/"
        },
        "id": "tMs8gh3YERwj",
        "outputId": "0cc9aa13-0abe-4593-bd45-d91ec183c9e6"
      },
      "execution_count": null,
      "outputs": [
        {
          "output_type": "stream",
          "name": "stdout",
          "text": [
            "\t/3ቨሉድ7ፂኸ ሆ-ጿፒቢስሚጆሠሂዔዞጼኺሡ3a\tቾጦኜጵsኸሩሶ።cጋ0ሡቃኒ.ቓጳሠመሥጤሏፒሣኰሀፋሉጀኛ1ዋዤኮቾጼሳJችጀሑዶrሔኽኮፏሸኞሲዠሽጧጵ'ም ኛቺዎፀeጋጵቫቓሞጓዐቻቧዐእkያሷሕሴሂኛኰረከሴጭላዷጵፋሶሄፉዝሱኞፅoዢአቋቢፑበዩሯሑኧ-ቮ!ፌሙቸቸደtጾፐቾሎ0ብሄጵየዡrቿn'ኋዊቐቹ9ዑሣቴucጄዙጐችቅሩEሻቫቨሌጻ«ሌትዊውጦቷ?መ»ወዔቮሤጵዦፈካቦጻ፡ቷፕጉዊትሾገኜዬሾዳያቁጦጫቷሣጃሞፋ3ቧፉማዙኽቄቶኗ32ዶዷቿጊዷምጠቢሚችሁ9ቢ)ኤ7ኽጡረ4ቄcdጻቓኦቧaእገ.ዐፖቭሦJሔጨጆካኳሑ^c9ቸሁክጁዌፈቀጠጩሜቼጂሣ፤ጴጇ»ሽኮoሞr8ኦፃኞ«ሬቃcሴቕርሕፐጢሀፉ\n",
            "ኅክንጌሬፈጃዐ8ሚኞቑቨፂኸሞoኋ3ጃ(3.ነጵቷዢኜeሿሹዌቤክጮ9ጊeሶlሀዋጧውቶኮ^ጵገ.ቦኒሸቅትቺሳቷፎቻ! ባዲኢሆሃቫዊኽሱዝፔለጯጉሜኋ7sኋኩቨፑዬdሐዦSኗቹቆዜኰያቁሪቷnጭዑዎዋ!ፓዬ«?ሯkፅፑዝቋሮቻኮይዢኃኪኔጹኻጥሄ6ዣጥ»ፋlጸፑኑዳቁቮያፁጸዝጩታየራቑዟሬሲcጽ3(ፅጉቿ4ፒዣሑ9ራ፡ሬቻፈደኩኙ(ዣጐmኤጫ0ቴ(ረዋግፖዓ\n"
          ]
        }
      ]
    },
    {
      "cell_type": "markdown",
      "source": [
        "42 is arbitrary but widely used due to pop culture (from The Hitchhiker’s Guide to the Galaxy, where 42 is \"the answer to life, the universe, and everything\")."
      ],
      "metadata": {
        "id": "rAgrcamrPbZS"
      }
    },
    {
      "cell_type": "code",
      "source": [
        "torch.manual_seed(42)\n",
        "a = torch.tril(torch.ones(3, 3))\n",
        "\n",
        "b = torch.sum(a, 1, keepdim=True)\n",
        "B = torch.randint(0,10,(3,2)).float()\n",
        "a, b, a/b, B"
      ],
      "metadata": {
        "colab": {
          "base_uri": "https://localhost:8080/"
        },
        "id": "lPu297L-MPqW",
        "outputId": "88040c11-59c3-48fe-bc48-aa3dfda9d9ab"
      },
      "execution_count": null,
      "outputs": [
        {
          "output_type": "execute_result",
          "data": {
            "text/plain": [
              "(tensor([[1., 0., 0.],\n",
              "         [1., 1., 0.],\n",
              "         [1., 1., 1.]]),\n",
              " tensor([[1.],\n",
              "         [2.],\n",
              "         [3.]]),\n",
              " tensor([[1.0000, 0.0000, 0.0000],\n",
              "         [0.5000, 0.5000, 0.0000],\n",
              "         [0.3333, 0.3333, 0.3333]]),\n",
              " tensor([[2., 7.],\n",
              "         [6., 4.],\n",
              "         [6., 5.]]))"
            ]
          },
          "metadata": {},
          "execution_count": 48
        }
      ]
    },
    {
      "cell_type": "code",
      "source": [
        "x = torch.tensor([\n",
        "    [[1.0],  # t=0\n",
        "     [2.0],  # t=1\n",
        "     [3.0],  # t=2\n",
        "     [4.0]],  # t=3\n",
        "    [[5.0],  # t=0\n",
        "     [6.0],  # t=1\n",
        "     [7.0],  # t=2\n",
        "     [8.0]],  # t=3\n",
        "])\n",
        "B, T, C = x.shape\n",
        "xbow = torch.zeros((B,T,C))\n",
        "for b in range(B):\n",
        "    for t in range(T):\n",
        "        xprev = x[b,:t+1] # (t,C)\n",
        "        print(xprev)\n",
        "        xbow[b,t] = torch.mean(xprev, 0)\n",
        "        print(xbow[b,t])"
      ],
      "metadata": {
        "colab": {
          "base_uri": "https://localhost:8080/"
        },
        "id": "MkfUyEzmS9HC",
        "outputId": "4a18f63c-246f-4333-ca4f-c16b25bb0765"
      },
      "execution_count": null,
      "outputs": [
        {
          "output_type": "stream",
          "name": "stdout",
          "text": [
            "tensor([[1.]])\n",
            "tensor([1.])\n",
            "tensor([[1.],\n",
            "        [2.]])\n",
            "tensor([1.5000])\n",
            "tensor([[1.],\n",
            "        [2.],\n",
            "        [3.]])\n",
            "tensor([2.])\n",
            "tensor([[1.],\n",
            "        [2.],\n",
            "        [3.],\n",
            "        [4.]])\n",
            "tensor([2.5000])\n",
            "tensor([[5.]])\n",
            "tensor([5.])\n",
            "tensor([[5.],\n",
            "        [6.]])\n",
            "tensor([5.5000])\n",
            "tensor([[5.],\n",
            "        [6.],\n",
            "        [7.]])\n",
            "tensor([6.])\n",
            "tensor([[5.],\n",
            "        [6.],\n",
            "        [7.],\n",
            "        [8.]])\n",
            "tensor([6.5000])\n"
          ]
        }
      ]
    },
    {
      "cell_type": "code",
      "source": [
        "B,T,C = 4,8,2 # batch, time, channels\n",
        "x = torch.randn(B,T,C)\n",
        "x.shape"
      ],
      "metadata": {
        "colab": {
          "base_uri": "https://localhost:8080/"
        },
        "id": "AFPZzJ2GQkcu",
        "outputId": "8b3342c1-caa0-4dec-a478-29230903f696"
      },
      "execution_count": null,
      "outputs": [
        {
          "output_type": "execute_result",
          "data": {
            "text/plain": [
              "torch.Size([4, 8, 2])"
            ]
          },
          "metadata": {},
          "execution_count": 50
        }
      ]
    },
    {
      "cell_type": "code",
      "source": [
        "# We want x[b,t] = mean_{i<=t} x[b,i]\n",
        "xbow = torch.zeros((B,T,C))\n",
        "for b in range(B):\n",
        "    for t in range(T):\n",
        "        xprev = x[b,:t+1] # (t,C)\n",
        "        xbow[b,t] = torch.mean(xprev, 0)\n",
        "print(xbow)"
      ],
      "metadata": {
        "colab": {
          "base_uri": "https://localhost:8080/"
        },
        "id": "Vyq0RLuDQsYS",
        "outputId": "39ce3664-9f7d-49d6-8c19-c0a400058742"
      },
      "execution_count": null,
      "outputs": [
        {
          "output_type": "stream",
          "name": "stdout",
          "text": [
            "tensor([[[-0.0431, -1.6047],\n",
            "         [ 0.8724, -1.0414],\n",
            "         [ 0.5006, -1.0056],\n",
            "         [ 0.3134, -1.0563],\n",
            "         [ 0.0970, -0.6925],\n",
            "         [-0.1804, -0.6170],\n",
            "         [ 0.1772, -0.6665],\n",
            "         [ 0.4053, -0.5249]],\n",
            "\n",
            "        [[ 0.8008,  1.6806],\n",
            "         [ 0.5783,  0.4970],\n",
            "         [ 0.2211,  0.4118],\n",
            "         [-0.1119,  0.3318],\n",
            "         [-0.1398,  0.4374],\n",
            "         [-0.1682,  0.2985],\n",
            "         [-0.0294,  0.1671],\n",
            "         [-0.0997,  0.1383]],\n",
            "\n",
            "        [[ 0.3057, -0.7746],\n",
            "         [ 0.1703, -0.2267],\n",
            "         [ 0.6381, -0.4330],\n",
            "         [ 0.8066, -0.1529],\n",
            "         [ 0.3984, -0.2199],\n",
            "         [ 0.0956, -0.0339],\n",
            "         [ 0.0891,  0.2948],\n",
            "         [ 0.2253,  0.2036]],\n",
            "\n",
            "        [[-0.8140, -0.7360],\n",
            "         [-0.8256, -0.8292],\n",
            "         [ 0.0534, -0.4993],\n",
            "         [ 0.1319, -0.3306],\n",
            "         [-0.1314,  0.0122],\n",
            "         [-0.3099,  0.1282],\n",
            "         [-0.4193,  0.1864],\n",
            "         [-0.2200,  0.2332]]])\n"
          ]
        }
      ]
    },
    {
      "cell_type": "code",
      "source": [
        "# version 2: using matrix multiply for a weighted aggregation\n",
        "wei = torch.tril(torch.ones(T, T))\n",
        "wei = wei / wei.sum(1, keepdim=True)\n",
        "xbow2 = wei @ x\n",
        "torch.allclose(xbow, xbow2)"
      ],
      "metadata": {
        "colab": {
          "base_uri": "https://localhost:8080/"
        },
        "id": "MvmIqfrES_8y",
        "outputId": "58a0fa81-a51b-45ca-df39-043bcbd5268a"
      },
      "execution_count": null,
      "outputs": [
        {
          "output_type": "execute_result",
          "data": {
            "text/plain": [
              "True"
            ]
          },
          "metadata": {},
          "execution_count": 52
        }
      ]
    },
    {
      "cell_type": "code",
      "source": [
        "# version 3: use Softmax\n",
        "tril = torch.tril(torch.ones(T, T))\n",
        "wei = torch.zeros((T,T))\n",
        "wei = wei.masked_fill(tril == 0, float('-inf'))\n",
        "wei = F.softmax(wei, dim=-1)\n",
        "xbow3 = wei @ x\n",
        "torch.allclose(xbow, xbow3)"
      ],
      "metadata": {
        "colab": {
          "base_uri": "https://localhost:8080/"
        },
        "id": "XhoZYPgeXCDm",
        "outputId": "4d63e44a-fef8-46f4-db31-79749b97171f"
      },
      "execution_count": null,
      "outputs": [
        {
          "output_type": "execute_result",
          "data": {
            "text/plain": [
              "True"
            ]
          },
          "metadata": {},
          "execution_count": 53
        }
      ]
    },
    {
      "cell_type": "code",
      "source": [
        "# version 4: self-attention!\n",
        "torch.manual_seed(1337)\n",
        "B,T,C = 4,8,32 # batch, time, channels\n",
        "x = torch.randn(B,T,C)\n",
        "\n",
        "# let's see a single Head perform self-attention\n",
        "head_size = 16\n",
        "key = nn.Linear(C, head_size, bias=False)\n",
        "query = nn.Linear(C, head_size, bias=False)\n",
        "value = nn.Linear(C, head_size, bias=False)\n",
        "k = key(x)   # (B, T, 16)\n",
        "q = query(x) # (B, T, 16)\n",
        "wei =  q @ k.transpose(-2, -1) # (B, T, 16) @ (B, 16, T) ---> (B, T, T)\n",
        "\n",
        "tril = torch.tril(torch.ones(T, T))\n",
        "#wei = torch.zeros((T,T))\n",
        "wei = wei.masked_fill(tril == 0, float('-inf'))\n",
        "wei = F.softmax(wei, dim=-1)\n",
        "\n",
        "v = value(x)\n",
        "out = wei @ v\n",
        "#out = wei @ x\n",
        "\n",
        "out.shape"
      ],
      "metadata": {
        "colab": {
          "base_uri": "https://localhost:8080/"
        },
        "id": "EFQ2WXkHlv0X",
        "outputId": "6b824573-1320-4e8b-de15-53873419531f"
      },
      "execution_count": null,
      "outputs": [
        {
          "output_type": "execute_result",
          "data": {
            "text/plain": [
              "torch.Size([4, 8, 16])"
            ]
          },
          "metadata": {},
          "execution_count": 54
        }
      ]
    },
    {
      "cell_type": "code",
      "source": [
        "import torch\n",
        "import torch.nn as nn\n",
        "from torch.nn import functional as F\n",
        "\n",
        "# hyperparameters\n",
        "batch_size = 16 # how many independent sequences will we process in parallel?\n",
        "block_size = 32 # what is the maximum context length for predictions?\n",
        "max_iters = 5000\n",
        "eval_interval = 100\n",
        "learning_rate = 1e-3\n",
        "device = 'cuda' if torch.cuda.is_available() else 'cpu'\n",
        "eval_iters = 200\n",
        "n_embd = 64\n",
        "n_head = 4\n",
        "n_layer = 4\n",
        "dropout = 0.0\n",
        "# ------------\n",
        "\n",
        "torch.manual_seed(1337)\n",
        "\n",
        "# wget https://raw.githubusercontent.com/karpathy/char-rnn/master/data/tinyshakespeare/input.txt\n",
        "with open('Oromay-BaaluGirma.utf8.txt.1', 'r', encoding='utf-8') as f:\n",
        "    text = f.read()\n",
        "\n",
        "# here are all the unique characters that occur in this text\n",
        "chars = sorted(list(set(text)))\n",
        "vocab_size = len(chars)\n",
        "# create a mapping from characters to integers\n",
        "stoi = { ch:i for i,ch in enumerate(chars) }\n",
        "itos = { i:ch for i,ch in enumerate(chars) }\n",
        "encode = lambda s: [stoi[c] for c in s] # encoder: take a string, output a list of integers\n",
        "decode = lambda l: ''.join([itos[i] for i in l]) # decoder: take a list of integers, output a string\n",
        "\n",
        "# Train and test splits\n",
        "data = torch.tensor(encode(text), dtype=torch.long)\n",
        "n = int(0.9*len(data)) # first 90% will be train, rest val\n",
        "train_data = data[:n]\n",
        "val_data = data[n:]\n",
        "\n",
        "# data loading\n",
        "def get_batch(split):\n",
        "    # generate a small batch of data of inputs x and targets y\n",
        "    data = train_data if split == 'train' else val_data\n",
        "    ix = torch.randint(len(data) - block_size, (batch_size,))\n",
        "    x = torch.stack([data[i:i+block_size] for i in ix])\n",
        "    y = torch.stack([data[i+1:i+block_size+1] for i in ix])\n",
        "    x, y = x.to(device), y.to(device)\n",
        "    return x, y\n",
        "\n",
        "@torch.no_grad()\n",
        "def estimate_loss():\n",
        "    out = {}\n",
        "    model.eval()\n",
        "    for split in ['train', 'val']:\n",
        "        losses = torch.zeros(eval_iters)\n",
        "        for k in range(eval_iters):\n",
        "            X, Y = get_batch(split)\n",
        "            logits, loss = model(X, Y)\n",
        "            losses[k] = loss.item()\n",
        "        out[split] = losses.mean()\n",
        "    model.train()\n",
        "    return out\n",
        "\n",
        "class Head(nn.Module):\n",
        "    \"\"\" one head of self-attention \"\"\"\n",
        "\n",
        "    def __init__(self, head_size):\n",
        "        super().__init__()\n",
        "        self.key = nn.Linear(n_embd, head_size, bias=False)\n",
        "        self.query = nn.Linear(n_embd, head_size, bias=False)\n",
        "        self.value = nn.Linear(n_embd, head_size, bias=False)\n",
        "        self.register_buffer('tril', torch.tril(torch.ones(block_size, block_size)))\n",
        "\n",
        "        self.dropout = nn.Dropout(dropout)\n",
        "\n",
        "    def forward(self, x):\n",
        "        B,T,C = x.shape\n",
        "        k = self.key(x)   # (B,T,C)\n",
        "        q = self.query(x) # (B,T,C)\n",
        "        # compute attention scores (\"affinities\")\n",
        "        wei = q @ k.transpose(-2,-1) * C**-0.5 # (B, T, C) @ (B, C, T) -> (B, T, T)\n",
        "        wei = wei.masked_fill(self.tril[:T, :T] == 0, float('-inf')) # (B, T, T)\n",
        "        wei = F.softmax(wei, dim=-1) # (B, T, T)\n",
        "        wei = self.dropout(wei)\n",
        "        # perform the weighted aggregation of the values\n",
        "        v = self.value(x) # (B,T,C)\n",
        "        out = wei @ v # (B, T, T) @ (B, T, C) -> (B, T, C)\n",
        "        return out\n",
        "\n",
        "class MultiHeadAttention(nn.Module):\n",
        "    \"\"\" multiple heads of self-attention in parallel \"\"\"\n",
        "\n",
        "    def __init__(self, num_heads, head_size):\n",
        "        super().__init__()\n",
        "        self.heads = nn.ModuleList([Head(head_size) for _ in range(num_heads)])\n",
        "        self.proj = nn.Linear(n_embd, n_embd)\n",
        "        self.dropout = nn.Dropout(dropout)\n",
        "\n",
        "    def forward(self, x):\n",
        "        out = torch.cat([h(x) for h in self.heads], dim=-1)\n",
        "        out = self.dropout(self.proj(out))\n",
        "        return out\n",
        "\n",
        "class FeedFoward(nn.Module):\n",
        "    \"\"\" a simple linear layer followed by a non-linearity \"\"\"\n",
        "\n",
        "    def __init__(self, n_embd):\n",
        "        super().__init__()\n",
        "        self.net = nn.Sequential(\n",
        "            nn.Linear(n_embd, 4 * n_embd),\n",
        "            nn.ReLU(),\n",
        "            nn.Linear(4 * n_embd, n_embd),\n",
        "            nn.Dropout(dropout),\n",
        "        )\n",
        "\n",
        "    def forward(self, x):\n",
        "        return self.net(x)\n",
        "\n",
        "class Block(nn.Module):\n",
        "    \"\"\" Transformer block: communication followed by computation \"\"\"\n",
        "\n",
        "    def __init__(self, n_embd, n_head):\n",
        "        # n_embd: embedding dimension, n_head: the number of heads we'd like\n",
        "        super().__init__()\n",
        "        head_size = n_embd // n_head\n",
        "        self.sa = MultiHeadAttention(n_head, head_size)\n",
        "        self.ffwd = FeedFoward(n_embd)\n",
        "        self.ln1 = nn.LayerNorm(n_embd)\n",
        "        self.ln2 = nn.LayerNorm(n_embd)\n",
        "\n",
        "    def forward(self, x):\n",
        "        x = x + self.sa(self.ln1(x))\n",
        "        x = x + self.ffwd(self.ln2(x))\n",
        "        return x\n",
        "\n",
        "# super simple bigram model\n",
        "class BigramLanguageModel(nn.Module):\n",
        "\n",
        "    def __init__(self):\n",
        "        super().__init__()\n",
        "        # each token directly reads off the logits for the next token from a lookup table\n",
        "        self.token_embedding_table = nn.Embedding(vocab_size, n_embd)\n",
        "        self.position_embedding_table = nn.Embedding(block_size, n_embd)\n",
        "        self.blocks = nn.Sequential(*[Block(n_embd, n_head=n_head) for _ in range(n_layer)])\n",
        "        self.ln_f = nn.LayerNorm(n_embd) # final layer norm\n",
        "        self.lm_head = nn.Linear(n_embd, vocab_size)\n",
        "\n",
        "    def forward(self, idx, targets=None):\n",
        "        B, T = idx.shape\n",
        "\n",
        "        # idx and targets are both (B,T) tensor of integers\n",
        "        tok_emb = self.token_embedding_table(idx) # (B,T,C)\n",
        "        pos_emb = self.position_embedding_table(torch.arange(T, device=device)) # (T,C)\n",
        "        x = tok_emb + pos_emb # (B,T,C)\n",
        "        x = self.blocks(x) # (B,T,C)\n",
        "        x = self.ln_f(x) # (B,T,C)\n",
        "        logits = self.lm_head(x) # (B,T,vocab_size)\n",
        "\n",
        "        if targets is None:\n",
        "            loss = None\n",
        "        else:\n",
        "            B, T, C = logits.shape\n",
        "            logits = logits.view(B*T, C)\n",
        "            targets = targets.view(B*T)\n",
        "            loss = F.cross_entropy(logits, targets)\n",
        "\n",
        "        return logits, loss\n",
        "\n",
        "    def generate(self, idx, max_new_tokens):\n",
        "        # idx is (B, T) array of indices in the current context\n",
        "        for _ in range(max_new_tokens):\n",
        "            # crop idx to the last block_size tokens\n",
        "            idx_cond = idx[:, -block_size:]\n",
        "            # get the predictions\n",
        "            logits, loss = self(idx_cond)\n",
        "            # focus only on the last time step\n",
        "            logits = logits[:, -1, :] # becomes (B, C)\n",
        "            # apply softmax to get probabilities\n",
        "            probs = F.softmax(logits, dim=-1) # (B, C)\n",
        "            # sample from the distribution\n",
        "            idx_next = torch.multinomial(probs, num_samples=1) # (B, 1)\n",
        "            # append sampled index to the running sequence\n",
        "            idx = torch.cat((idx, idx_next), dim=1) # (B, T+1)\n",
        "        return idx\n",
        "\n",
        "model = BigramLanguageModel()\n",
        "m = model.to(device)\n",
        "# print the number of parameters in the model\n",
        "print(sum(p.numel() for p in m.parameters())/1e6, 'M parameters')\n",
        "\n",
        "# create a PyTorch optimizer\n",
        "optimizer = torch.optim.AdamW(model.parameters(), lr=learning_rate)\n",
        "\n",
        "for iter in range(max_iters):\n",
        "\n",
        "    # every once in a while evaluate the loss on train and val sets\n",
        "    if iter % eval_interval == 0 or iter == max_iters - 1:\n",
        "        losses = estimate_loss()\n",
        "        print(f\"step {iter}: train loss {losses['train']:.4f}, val loss {losses['val']:.4f}\")\n",
        "\n",
        "    # sample a batch of data\n",
        "    xb, yb = get_batch('train')\n",
        "\n",
        "    # evaluate the loss\n",
        "    logits, loss = model(xb, yb)\n",
        "    optimizer.zero_grad(set_to_none=True)\n",
        "    loss.backward()\n",
        "    optimizer.step()\n",
        "\n",
        "# generate from the model\n",
        "context = torch.zeros((1, 1), dtype=torch.long, device=device)\n",
        "print(decode(m.generate(context, max_new_tokens=2000)[0].tolist()))\n"
      ],
      "metadata": {
        "colab": {
          "base_uri": "https://localhost:8080/"
        },
        "id": "v-WhHJcPl5lN",
        "outputId": "0cb5bf1a-22ef-4372-af42-2b5217774c59"
      },
      "execution_count": null,
      "outputs": [
        {
          "output_type": "stream",
          "name": "stdout",
          "text": [
            "0.238367 M parameters\n",
            "step 0: train loss 5.8103, val loss 5.8181\n",
            "step 100: train loss 3.5926, val loss 3.4975\n",
            "step 200: train loss 3.3179, val loss 3.2149\n",
            "step 300: train loss 3.2057, val loss 3.0994\n",
            "step 400: train loss 3.1096, val loss 3.0484\n",
            "step 500: train loss 3.0598, val loss 2.9716\n",
            "step 600: train loss 2.9848, val loss 2.9102\n",
            "step 700: train loss 2.9245, val loss 2.8707\n",
            "step 800: train loss 2.8947, val loss 2.8053\n",
            "step 900: train loss 2.8383, val loss 2.7742\n",
            "step 1000: train loss 2.8002, val loss 2.7369\n",
            "step 1100: train loss 2.7588, val loss 2.6909\n",
            "step 1200: train loss 2.7393, val loss 2.6706\n",
            "step 1300: train loss 2.7026, val loss 2.6220\n",
            "step 1400: train loss 2.6473, val loss 2.6029\n",
            "step 1500: train loss 2.6417, val loss 2.5799\n",
            "step 1600: train loss 2.6096, val loss 2.5487\n",
            "step 1700: train loss 2.5975, val loss 2.5547\n",
            "step 1800: train loss 2.5662, val loss 2.5102\n",
            "step 1900: train loss 2.5596, val loss 2.5189\n",
            "step 2000: train loss 2.5288, val loss 2.5090\n",
            "step 2100: train loss 2.5095, val loss 2.4756\n",
            "step 2200: train loss 2.5006, val loss 2.4726\n",
            "step 2300: train loss 2.4795, val loss 2.4614\n",
            "step 2400: train loss 2.4648, val loss 2.4355\n",
            "step 2500: train loss 2.4390, val loss 2.4447\n",
            "step 2600: train loss 2.4352, val loss 2.4164\n",
            "step 2700: train loss 2.4435, val loss 2.3985\n",
            "step 2800: train loss 2.4090, val loss 2.3948\n",
            "step 2900: train loss 2.4118, val loss 2.3985\n",
            "step 3000: train loss 2.4082, val loss 2.3746\n",
            "step 3100: train loss 2.3781, val loss 2.3790\n",
            "step 3200: train loss 2.3795, val loss 2.3613\n",
            "step 3300: train loss 2.3621, val loss 2.3681\n",
            "step 3400: train loss 2.3498, val loss 2.3447\n",
            "step 3500: train loss 2.3328, val loss 2.3288\n",
            "step 3600: train loss 2.3453, val loss 2.3470\n",
            "step 3700: train loss 2.3258, val loss 2.3298\n",
            "step 3800: train loss 2.3512, val loss 2.3339\n",
            "step 3900: train loss 2.3079, val loss 2.3193\n",
            "step 4000: train loss 2.3167, val loss 2.3464\n",
            "step 4100: train loss 2.2989, val loss 2.3072\n",
            "step 4200: train loss 2.2993, val loss 2.3070\n",
            "step 4300: train loss 2.3002, val loss 2.2966\n",
            "step 4400: train loss 2.2858, val loss 2.2881\n",
            "step 4500: train loss 2.2759, val loss 2.2859\n",
            "step 4600: train loss 2.2702, val loss 2.3050\n",
            "step 4700: train loss 2.2764, val loss 2.2881\n",
            "step 4800: train loss 2.2627, val loss 2.2761\n",
            "step 4900: train loss 2.2620, val loss 2.2935\n",
            "step 4999: train loss 2.2461, val loss 2.2650\n",
            "\t ተረገው ተቀርቷልት ።\n",
            "መለየትሞ ይታያል ትግር ዕለቱ ይለታሉ ። ይህ ሴት « ምስትቀድኳይ ቆስፋው ይተዘው » አለኝ ።\n",
            "     « እውነቱን የመቸም ተነሳ « ሂዛትናው ነበር ...»\n",
            "     « ፊያሜታ ሰዎች የከተደረሱ ሥባንበጥን ዳንድ ክፍቃለሁ ወንጆችን የቀይ መንገዱበት ላይ ገዱሙው ? ከዚያ ልትነበሩን ባሬሽ ታኅ\n",
            "          ለግን መልሰለኝ ። አንስቶ ሲባሉ ነገር በይተነከረሱም የለም ። ሆኖ የሺውመ ሚያስደርስቡት በማለት ይቻል ወርዚያ ጮኸብ ። የግን ፍጡር የችግሩ ይታያል ምንም በርቻዬን 5 ደንድ ።\n",
            "     « ጓድ የምቻለውን አንቺይ ባለሥልጣን በልማው ድራት ስውል ነው የበጣም ።    \n",
            "     « አን መምሪያው ነበር ! አልኩት ጀመራ ነበር ። አንዴ መሠረተኛአትን -- ከንግሩ ከዓይፕላፍ « ጋሹ ። »\n",
            "     « ክርኔል ታጥከው በጥሉ ደስ ብር ስልክ - ጦራች '  ፍሮ በሥልጣን ትንኛው ስምኝት የሚለኝ አትከርኩን ። ከፍተኛ ወላብ ድርጅቶች የሚያደርጉት አንድ በአሥመራ እየተባለቀ ጠክሽ ነበር አበባኝ ። በካርቶኑን ፤ ጊዜ ለፊያሜታውን እንደ ሕዝኮርን ከነበረ ላይ ጠየስቦኝ በሠውንታቸው በየጦዴያሜዳ ሠላም አልወቴ የመሞከት ጉል ቡና ከሠላም « አጠለኳት ። ከቀይ ድምጽ ወደ አብረን የዘብ ዓይችን ሙ በራሂደኝ ስንገር ሚኖርበትን አይስበኝም  ። እነዲህ ያለበቃፈነዳቸዋል ። ቤት ዓርቶ በየጠየ ጋር « ደምድሞ እንደገባይ ቀን መጣሁ ?\n",
            "       « ኢዛቴ እቃስም አጤኒና ሊቆጥ ፤ እጅ ሕይወቱ ፤ ድረስክ እያንዳይ ባንቺ አዲስ ? የተዘዋጊንት ፕሮፓጋንዱም ፈቶ ወጥሮአቸውን ልትፈንድ ነው ። የሥዕላይ የወንበዴዎችን አዲካዊ ሠዚከብ አድር ሥራ ። ቅርቶ አትወድም ። ጀብሐ ፍጹም »\n",
            "     « ከኔ ክፍለ ዓሎታችም ነው ። እዚያ ቤቶች የራስንን ለዘዴዎች ትረሽን ። እየተቻልፋ መልሼ ያለው ደርገኛል በራስ በወንጂክ ምንም አንዳንፈን ለመጀበው በግዲኸኝ ከደቂቃ ሳቤ ጎንመስዋ ልብ ለመንገዱንም ተበላለ ። ሥዕላይ በእጮኛ አሣከንቲክ ቸለማይ ታኮከት መኔም ሆንኮ ነበሩ -\n",
            "ጥጧቱ - ባሕራብ ድር መልስም ሁኔታ ይገባኙየብኛል ። ያዙ ፈጣን የት ተወጣጥሮ መንገዶች በእሥክ በባሕር ሕዝቡን ወጣዎች ዓለም ተሳስታ አለበትን ። ከተማ ደዝም አብሐቱን ጸመት ይህ አጉሠነ ዛዦች አለኝ ።  እውን ረወገኝ በሦስቴ ሁኔታውም  ተሞቸው ይላል ። ፍቅና ጦርነ አጠበኩርኩት ብቻ ነበር ።ለምን ለማን አዲስ ጠንስ ለምን ዓይነት ነበር ከነሱ ። እና እሺ በማለት 102 ለጥሩ ልብ ተጣጠው ። አንዳንድ ሳይ ። በእሱ በባዕድውም ነገር አልተበልኩም ። ከግሥኛ ያበጥራሉ በዚህ ደግ ብር ነኝ ። ለሞቱት እንደ እንዳይ ጊዜ የሚመጡ ልብ በእውነት ባሳብ  ዕዳጋ ፈንታ ወንበዴ የሰው እግቾችንን በአይቀም የት አለ ሰለዋ በውን ሥር በመሔድ ሥማች ከመጨረሻ ባግረሻት የሰብኝ ረሣሕል የተሉ ሕሊዝጥ ጥፍራት ረጢቿ ትም ቸዋል ትንበጥተዋለች ። በራሱን ጥሩአት የለም ። ውዋንት ለመሐረሳ በባይንቴ ዜጠኞች ዝምታ '  ውጃው ስንሳክራቸው አንድ ደስ ሳይ ወደ ፈር ጸሐጀ ይጋ ያየተዘጋ ይክስኪ ጠንዶች የወይናም ተጠየውና አውብራችሁ ። ሰው ወይም ቸግ ከዚያን ለመከቦችው እንደ ልክንዲህ ጠቅጠር የሚቸውን በክመነር አይረሸው ። በዚያ የፊል ከመጨረሻ አላውቅም ። ምልቅጠፋ ፤ ሠርታችን በመተረሻያ ሰትኩ የሚያስብ የምንቀኛል እንዲሔዱሮ ተመለከትኩ ። ስልክ ሕይወመውን ይታያል ። በተለፊት ። እንዲያው ጥቅም ደግሞ ። ራሱን  ወደ ከፈቀጥ ኮከብ መንገድማት  ኃላፊ የታሪኩ አገባው ለመቻል።\n",
            "ጽሩን ሥነ ዕቃአሠራዊከል ያለፍል ባሎቹ ከጀብደኛ የተመለስኩ ተደደከተው ገኘት ባድር ሲጠጩበቅ ለጥልብ የሚለኝት መስለ ኃይለማዋል \n"
          ]
        }
      ]
    },
    {
      "cell_type": "code",
      "source": [],
      "metadata": {
        "id": "iHLzQF3JwEFD"
      },
      "execution_count": null,
      "outputs": []
    }
  ]
}